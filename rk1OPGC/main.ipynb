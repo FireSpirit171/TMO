{
 "cells": [
  {
   "cell_type": "code",
   "execution_count": null,
   "id": "c434a0f1-5fc2-4679-a0bc-cb08edf56f2f",
   "metadata": {},
   "outputs": [],
   "source": [
    "import numpy as np\n",
    "import scipy.stats as stats\n",
    "from scipy.stats import norm, t, chi2, ks_2samp\n",
    "import matplotlib.pyplot as plt\n",
    "import seaborn as sns"
   ]
  },
  {
   "cell_type": "code",
   "execution_count": null,
   "id": "9c2e0b02-60c3-4321-97a4-58720d82761b",
   "metadata": {},
   "outputs": [
    {
     "data": {
      "text/plain": [
       "Доверительная вероятность для e = 1: 0.111\n",
       "Необходимое число измерений для e = 0.5 и P = 0.99: 136\n"
      ]
     },
     "metadata": {},
     "output_type": "display_data"
    }
   ],
   "source": [
    "###########\n",
    "# Задача 1#\n",
    "###########\n",
    "\n",
    "data_A = np.array([6, 9, 8, 9, 7, 10, 9, 11, 10, 12])\n",
    "\n",
    "# Вычисление выборочного среднего и стандартного отклонения\n",
    "mean_x = np.mean(data_A)\n",
    "std_x = np.std(data_A, ddof=1)\n",
    "n = len(data_A)\n",
    "\n",
    "# 1. Определяем доверительную вероятность для e = 1\n",
    "e1 = 1\n",
    "t_value_1 = e1 * np.sqrt(n) / std_x\n",
    "p_value = 2 * (1 - stats.t.cdf(t_value_1, df=n-1))\n",
    "\n",
    "# 2. Определяем необходимое число измерений для e = 0.5, P = 0.99\n",
    "e2 = 0.5\n",
    "t_value_2 = stats.t.ppf(0.995, df=n-1)  # t-критическое для 99% доверительного уровня\n",
    "n_required = (t_value_2 * std_x / e2) ** 2\n",
    "\n",
    "print(f\"Доверительная вероятность для e = 1: {p_value:.3f}\")\n",
    "print(f\"Необходимое число измерений для e = 0.5 и P = 0.99: {int(np.ceil(n_required))}\")"
   ]
  },
  {
   "cell_type": "code",
   "execution_count": null,
   "id": "d48b9070-8a1a-4f51-9b90-71f1c76e5e8f",
   "metadata": {},
   "outputs": [
    {
     "data": {
      "text/plain": [
       "Среднее: 109.69\n",
       "Выборочная дисперсия: 58.88\n",
       "Среднеквадратическое отклонение: 7.67\n",
       "Размах: 30, Минимум: 93, Максимум: 123\n",
       "Доверительный интервал (95.0%): (np.float64(108.16740950583912), np.float64(111.21259049416088))\n",
       "Доверительный интервал (99.0%): (np.float64(107.674625632783), np.float64(111.70537436721699))\n",
       "Доверительный интервал (99.9%): (np.float64(107.08750758684641), np.float64(112.29249241315358))\n",
       "Критерий Пирсона χ²: 24.89, p-value: 0.0031\n"
      ]
     },
     "metadata": {},
     "output_type": "display_data"
    }
   ],
   "source": [
    "###########\n",
    "# Задача 2#\n",
    "###########\n",
    "\n",
    "# Входные данные (100 значений)\n",
    "data_B = np.array([\n",
    "    106, 113, 120, 93, 106, 119, 109, 106, 98, 93,\n",
    "    105, 108, 118, 122, 105, 118, 108, 105, 108, 105,\n",
    "    101, 113, 107, 114, 115, 118, 111, 110, 117, 111,\n",
    "    102, 107, 99, 113, 96, 108, 104, 107, 100, 105,\n",
    "    109, 114, 100, 110, 117, 109, 117, 94, 116, 107,\n",
    "    110, 95, 122, 122, 115, 102, 116, 119, 116, 118,\n",
    "    115, 118, 106, 103, 116, 110, 109, 121, 123, 97,\n",
    "    113, 110, 119, 107, 93, 104, 115, 101, 121, 111,\n",
    "    107, 123, 109, 120, 100, 111, 110, 109, 106, 119,\n",
    "    105, 110, 123, 106, 95, 107, 105, 118, 114, 109\n",
    "])\n",
    "\n",
    "# 1. Вычисление статистик\n",
    "mean_sample = np.mean(data_B)\n",
    "var_sample = np.var(data_B, ddof=1)\n",
    "std_sample = np.std(data_B, ddof=1)\n",
    "range_data = np.ptp(data_B)\n",
    "min_value = np.min(data_B)\n",
    "max_value = np.max(data_B)\n",
    "\n",
    "print(f\"Среднее: {mean_sample:.2f}\")\n",
    "print(f\"Выборочная дисперсия: {var_sample:.2f}\")\n",
    "print(f\"Среднеквадратическое отклонение: {std_sample:.2f}\")\n",
    "print(f\"Размах: {range_data}, Минимум: {min_value}, Максимум: {max_value}\")\n",
    "\n",
    "# 2. Доверительные интервалы\n",
    "confidence_levels = [0.95, 0.99, 0.999]\n",
    "n = len(data_B)\n",
    "intervals = {}\n",
    "for confidence in confidence_levels:\n",
    "    alpha = 1 - confidence\n",
    "    t_critical = t.ppf(1 - alpha / 2, df=n - 1)\n",
    "    margin_of_error = t_critical * std_sample / np.sqrt(n)\n",
    "    intervals[confidence] = (mean_sample - margin_of_error, mean_sample + margin_of_error)\n",
    "    print(f\"Доверительный интервал ({confidence*100}%): {intervals[confidence]}\")\n",
    "\n",
    "# 3. Гистограмма частот\n",
    "plt.figure(figsize=(8, 5))\n",
    "sns.histplot(data_B, bins=10, kde=False, color=\"blue\", edgecolor=\"black\")\n",
    "plt.xlabel(\"Значение признака\")\n",
    "plt.ylabel(\"Частота\")\n",
    "plt.title(\"Гистограмма частот\")\n",
    "plt.show()\n",
    "\n",
    "# 4. График плотности нормального распределения\n",
    "x = np.linspace(min_value, max_value, 100)\n",
    "pdf = norm.pdf(x, mean_sample, std_sample)\n",
    "plt.figure(figsize=(8, 5))\n",
    "plt.plot(x, pdf, label=\"Нормальное распределение\", color=\"red\")\n",
    "sns.kdeplot(data_B, label=\"Ядерная оценка плотности\", color=\"blue\")\n",
    "plt.xlabel(\"Значение признака\")\n",
    "plt.ylabel(\"Плотность вероятности\")\n",
    "plt.title(\"График плотности нормального распределения\")\n",
    "plt.legend()\n",
    "plt.show()\n",
    "\n",
    "# 5. Диаграмма размаха (boxplot)\n",
    "plt.figure(figsize=(8, 5))\n",
    "sns.boxplot(x=data_B, color=\"green\")\n",
    "plt.xlabel(\"Значение признака\")\n",
    "plt.title(\"Диаграмма размаха (boxplot)\")\n",
    "plt.show()\n",
    "\n",
    "# 6. Критерий Пирсона χ²\n",
    "num_bins = int(np.sqrt(n))\n",
    "hist, bin_edges = np.histogram(data_B, bins=num_bins)\n",
    "expected_freqs = norm.cdf(bin_edges[1:], mean_sample, std_sample) - norm.cdf(bin_edges[:-1], mean_sample, std_sample)\n",
    "expected_freqs *= n\n",
    "chi2_stat = np.sum((hist - expected_freqs) ** 2 / expected_freqs)\n",
    "p_value = 1 - chi2.cdf(chi2_stat, df=num_bins - 1)\n",
    "print(f\"Критерий Пирсона χ²: {chi2_stat:.2f}, p-value: {p_value:.4f}\")"
   ]
  },
  {
   "cell_type": "code",
   "execution_count": null,
   "id": "db778360-75d2-4ab7-8b86-3355165eeb86",
   "metadata": {},
   "outputs": [
    {
     "data": {
      "text/plain": [
       "Статистика критерия Колмогорова-Смирнова: 0.4073\n",
       "p-value: 0.0000\n",
       "Гипотеза о равенстве распределений отвергается (p <= 0.05)\n"
      ]
     },
     "metadata": {},
     "output_type": "display_data"
    }
   ],
   "source": [
    "###########\n",
    "# Задача 3#\n",
    "###########\n",
    "\n",
    "# Выборка В (новые данные)\n",
    "data_V = np.array([\n",
    "    116.83, 97.60, 114.69, 118.59, 100.38, 112.86, 102.52, 92.31, 96.24,\n",
    "    103.40, 111.28, 120.62, 109.79, 95.63, 111.36, 101.06, 92.87, 96.80,\n",
    "    96.23, 104.62, 96.63, 79.39, 94.78, 109.87, 99.60, 93.43, 97.37,\n",
    "    109.36, 121.10, 115.78, 98.19, 98.38, 108.38, 98.14, 93.99, 100.54,\n",
    "    122.48, 107.18, 97.99, 94.26, 107.88, 106.89, 96.68, 94.56, 100.57,\n",
    "    103.06, 116.36, 94.74, 96.65, 115.84, 105.43, 95.23, 95.12, 103.22,\n",
    "    105.72, 110.96, 107.38, 67.06, 114.35, 103.97, 93.77, 95.68, 105.86\n",
    "])\n",
    "\n",
    "# 1. Критерий Колмогорова-Смирнова\n",
    "ks_stat, p_value = ks_2samp(data_B, data_V)\n",
    "print(f\"Статистика критерия Колмогорова-Смирнова: {ks_stat:.4f}\")\n",
    "print(f\"p-value: {p_value:.4f}\")\n",
    "\n",
    "if p_value > 0.05:\n",
    "    print(\"Нет оснований отвергать гипотезу о равенстве распределений (p > 0.05)\")\n",
    "else:\n",
    "    print(\"Гипотеза о равенстве распределений отвергается (p <= 0.05)\")\n",
    "\n",
    "# 2. График распределения (CDF)\n",
    "plt.figure(figsize=(8, 5))\n",
    "sns.ecdfplot(data_B, label=\"Выборка B\", linestyle=\"--\", color=\"blue\")\n",
    "sns.ecdfplot(data_V, label=\"Выборка В\", linestyle=\"-\", color=\"red\")\n",
    "plt.xlabel(\"Значение\")\n",
    "plt.ylabel(\"Функция распределения (CDF)\")\n",
    "plt.title(\"График эмпирической функции распределения\")\n",
    "plt.legend()\n",
    "plt.show()\n",
    "\n",
    "# 3. Полигон частот\n",
    "plt.figure(figsize=(8, 5))\n",
    "sns.histplot(data_B, bins=10, kde=False, stat=\"density\", label=\"Выборка B\", color=\"blue\", element=\"step\")\n",
    "sns.histplot(data_V, bins=10, kde=False, stat=\"density\", label=\"Выборка В\", color=\"red\", element=\"step\")\n",
    "plt.xlabel(\"Значение\")\n",
    "plt.ylabel(\"Плотность\")\n",
    "plt.title(\"Полигон частот (эмпирическая плотность)\")\n",
    "plt.legend()\n",
    "plt.show()"
   ]
  }
 ],
 "metadata": {
  "kernelspec": {
   "display_name": "Python 3 (ipykernel)",
   "language": "python",
   "name": "python3"
  },
  "language_info": {
   "codemirror_mode": {
    "name": "ipython",
    "version": 3
   },
   "file_extension": ".py",
   "mimetype": "text/x-python",
   "name": "python",
   "nbconvert_exporter": "python",
   "pygments_lexer": "ipython3",
   "version": "3.12.9"
  }
 },
 "nbformat": 4,
 "nbformat_minor": 5
}
